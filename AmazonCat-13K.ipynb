{
 "cells": [
  {
   "cell_type": "markdown",
   "id": "54958776",
   "metadata": {},
   "source": [
    "## FAISS"
   ]
  },
  {
   "cell_type": "code",
   "execution_count": 8,
   "id": "ab39e418",
   "metadata": {},
   "outputs": [
    {
     "name": "stdout",
     "output_type": "stream",
     "text": [
      "Devices: [0, 1]\n"
     ]
    }
   ],
   "source": [
    "from pathlib import Path\n",
    "\n",
    "import h5py\n",
    "import numpy as np\n",
    "import torch\n",
    "\n",
    "DATA_DIR = Path(\"~/data/AmazonCat-13K\").expanduser()\n",
    "DATA_DIR.mkdir(exist_ok=True)\n",
    "\n",
    "DEVICE_IDS = list(range(torch.cuda.device_count()))\n",
    "print(f\"Devices: {DEVICE_IDS}\")"
   ]
  },
  {
   "cell_type": "code",
   "execution_count": 9,
   "id": "9124d53b",
   "metadata": {},
   "outputs": [
    {
     "data": {
      "text/plain": [
       "<KeysViewHDF5 ['embedding', 'index', 'label']>"
      ]
     },
     "execution_count": 9,
     "metadata": {},
     "output_type": "execute_result"
    }
   ],
   "source": [
    "data_file = h5py.File(DATA_DIR / \"amazoncat_encoded.hdf5\", \"r\")\n",
    "data_file[\"train\"].keys()"
   ]
  },
  {
   "cell_type": "code",
   "execution_count": 3,
   "id": "0afdf02b",
   "metadata": {},
   "outputs": [
    {
     "name": "stdout",
     "output_type": "stream",
     "text": [
      "<HDF5 dataset \"embedding\": shape (215469705, 768), type \"<f2\">\n",
      "<HDF5 dataset \"embedding\": shape (55523476, 768), type \"<f2\">\n"
     ]
    }
   ],
   "source": [
    "train_embed = f[\"train\"][\"embedding\"]\n",
    "train_index = f[\"train\"][\"index\"]\n",
    "train_label = f[\"train\"][\"label\"]\n",
    "\n",
    "test_embed = f[\"test\"][\"embedding\"]\n",
    "test_index = f[\"test\"][\"index\"]\n",
    "test_label = f[\"test\"][\"label\"]\n",
    "\n",
    "print(train_embed)\n",
    "print(test_embed)"
   ]
  },
  {
   "cell_type": "code",
   "execution_count": null,
   "id": "041dea88",
   "metadata": {},
   "outputs": [
    {
     "name": "stdout",
     "output_type": "stream",
     "text": [
      "loading data...\n"
     ]
    }
   ],
   "source": [
    "from mp_helper import load_data\n",
    "\n",
    "print(\"loading data...\")\n",
    "\n",
    "n = train_embed.shape[0]\n",
    "collection, runtime = load_data(data_dir / \"amazoncat_encoded.hdf5\", n)\n",
    "\n",
    "print(f\"Time {runtime:.2f}sec\")\n",
    "print(collection.shape)"
   ]
  },
  {
   "cell_type": "code",
   "execution_count": null,
   "id": "8705608d",
   "metadata": {},
   "outputs": [],
   "source": [
    "import sys\n",
    "\n",
    "GB = lambda x: sys.getsizeof(x) / (1024 * 1024 * 1024)\n",
    "GB(collection)"
   ]
  },
  {
   "cell_type": "code",
   "execution_count": null,
   "id": "c1e0778a",
   "metadata": {},
   "outputs": [],
   "source": [
    "import faiss\n",
    "import time\n",
    "from helpers import flattened_to_batched\n",
    "\n",
    "d = train_embed.shape[-1]\n",
    "n_centroids = 10_000\n",
    "code_size = 16\n",
    "n_bits = 8\n",
    "\n",
    "coarse_quantizer = faiss.IndexFlatL2(d)\n",
    "index = faiss.IndexIVFPQ(coarse_quantizer, d, n_centroids, code_size, 8)\n",
    "index.nprobe = 10\n",
    "\n",
    "start = time.time()\n",
    "index.train(collection)\n",
    "end = time.time()\n",
    "\n",
    "print(f\"Time {end - start:.2f}sec\")"
   ]
  },
  {
   "cell_type": "code",
   "execution_count": null,
   "id": "b53bdce9",
   "metadata": {},
   "outputs": [],
   "source": [
    "GB(index)"
   ]
  },
  {
   "cell_type": "code",
   "execution_count": null,
   "id": "68cb9731",
   "metadata": {},
   "outputs": [],
   "source": []
  },
  {
   "cell_type": "code",
   "execution_count": null,
   "id": "5fa4f569",
   "metadata": {},
   "outputs": [],
   "source": []
  },
  {
   "cell_type": "code",
   "execution_count": null,
   "id": "478d49f9",
   "metadata": {},
   "outputs": [],
   "source": []
  },
  {
   "cell_type": "code",
   "execution_count": null,
   "id": "6e5c5d03",
   "metadata": {},
   "outputs": [],
   "source": []
  }
 ],
 "metadata": {
  "kernelspec": {
   "display_name": "Python 3 (ipykernel)",
   "language": "python",
   "name": "python3"
  },
  "language_info": {
   "codemirror_mode": {
    "name": "ipython",
    "version": 3
   },
   "file_extension": ".py",
   "mimetype": "text/x-python",
   "name": "python",
   "nbconvert_exporter": "python",
   "pygments_lexer": "ipython3",
   "version": "3.10.8"
  }
 },
 "nbformat": 4,
 "nbformat_minor": 5
}
